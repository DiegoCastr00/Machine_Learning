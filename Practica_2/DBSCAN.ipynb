{
 "cells": [
  {
   "cell_type": "code",
   "execution_count": 1,
   "metadata": {},
   "outputs": [
    {
     "ename": "KeyboardInterrupt",
     "evalue": "",
     "output_type": "error",
     "traceback": [
      "\u001b[1;31m---------------------------------------------------------------------------\u001b[0m",
      "\u001b[1;31mKeyboardInterrupt\u001b[0m                         Traceback (most recent call last)",
      "\u001b[1;32mc:\\Descargas\\Machine Learning\\Practica_2\\DBSCAN.ipynb Celda 1\u001b[0m line \u001b[0;36m5\n\u001b[0;32m     <a href='vscode-notebook-cell:/c%3A/Descargas/Machine%20Learning/Practica_2/DBSCAN.ipynb#W0sZmlsZQ%3D%3D?line=51'>52</a>\u001b[0m min_samples \u001b[39m=\u001b[39m \u001b[39m5\u001b[39m  \u001b[39m# Mínimo de puntos en un clúster\u001b[39;00m\n\u001b[0;32m     <a href='vscode-notebook-cell:/c%3A/Descargas/Machine%20Learning/Practica_2/DBSCAN.ipynb#W0sZmlsZQ%3D%3D?line=53'>54</a>\u001b[0m \u001b[39m# Ejecutar DBSCAN\u001b[39;00m\n\u001b[1;32m---> <a href='vscode-notebook-cell:/c%3A/Descargas/Machine%20Learning/Practica_2/DBSCAN.ipynb#W0sZmlsZQ%3D%3D?line=54'>55</a>\u001b[0m dbscan_labels \u001b[39m=\u001b[39m dbscan(X, epsilon, min_samples)\n\u001b[0;32m     <a href='vscode-notebook-cell:/c%3A/Descargas/Machine%20Learning/Practica_2/DBSCAN.ipynb#W0sZmlsZQ%3D%3D?line=56'>57</a>\u001b[0m \u001b[39m# Agregar las etiquetas de DBSCAN al DataFrame original\u001b[39;00m\n\u001b[0;32m     <a href='vscode-notebook-cell:/c%3A/Descargas/Machine%20Learning/Practica_2/DBSCAN.ipynb#W0sZmlsZQ%3D%3D?line=57'>58</a>\u001b[0m data[\u001b[39m'\u001b[39m\u001b[39mDBSCAN_Labels\u001b[39m\u001b[39m'\u001b[39m] \u001b[39m=\u001b[39m dbscan_labels\n",
      "\u001b[1;32mc:\\Descargas\\Machine Learning\\Practica_2\\DBSCAN.ipynb Celda 1\u001b[0m line \u001b[0;36m3\n\u001b[0;32m     <a href='vscode-notebook-cell:/c%3A/Descargas/Machine%20Learning/Practica_2/DBSCAN.ipynb#W0sZmlsZQ%3D%3D?line=29'>30</a>\u001b[0m \u001b[39mif\u001b[39;00m labels[i] \u001b[39m!=\u001b[39m \u001b[39m0\u001b[39m:  \u001b[39m# Si ya está etiquetado, continuar\u001b[39;00m\n\u001b[0;32m     <a href='vscode-notebook-cell:/c%3A/Descargas/Machine%20Learning/Practica_2/DBSCAN.ipynb#W0sZmlsZQ%3D%3D?line=30'>31</a>\u001b[0m     \u001b[39mcontinue\u001b[39;00m\n\u001b[1;32m---> <a href='vscode-notebook-cell:/c%3A/Descargas/Machine%20Learning/Practica_2/DBSCAN.ipynb#W0sZmlsZQ%3D%3D?line=31'>32</a>\u001b[0m neighbors \u001b[39m=\u001b[39m find_neighbors(X, i, epsilon)\n\u001b[0;32m     <a href='vscode-notebook-cell:/c%3A/Descargas/Machine%20Learning/Practica_2/DBSCAN.ipynb#W0sZmlsZQ%3D%3D?line=32'>33</a>\u001b[0m \u001b[39mif\u001b[39;00m \u001b[39mlen\u001b[39m(neighbors) \u001b[39m<\u001b[39m min_samples:\n\u001b[0;32m     <a href='vscode-notebook-cell:/c%3A/Descargas/Machine%20Learning/Practica_2/DBSCAN.ipynb#W0sZmlsZQ%3D%3D?line=33'>34</a>\u001b[0m     labels[i] \u001b[39m=\u001b[39m \u001b[39m-\u001b[39m\u001b[39m1\u001b[39m  \u001b[39m# Marcar como ruido\u001b[39;00m\n",
      "\u001b[1;32mc:\\Descargas\\Machine Learning\\Practica_2\\DBSCAN.ipynb Celda 1\u001b[0m line \u001b[0;36m2\n\u001b[0;32m     <a href='vscode-notebook-cell:/c%3A/Descargas/Machine%20Learning/Practica_2/DBSCAN.ipynb#W0sZmlsZQ%3D%3D?line=18'>19</a>\u001b[0m neighbors \u001b[39m=\u001b[39m []\n\u001b[0;32m     <a href='vscode-notebook-cell:/c%3A/Descargas/Machine%20Learning/Practica_2/DBSCAN.ipynb#W0sZmlsZQ%3D%3D?line=19'>20</a>\u001b[0m \u001b[39mfor\u001b[39;00m i, x \u001b[39min\u001b[39;00m \u001b[39menumerate\u001b[39m(X):\n\u001b[1;32m---> <a href='vscode-notebook-cell:/c%3A/Descargas/Machine%20Learning/Practica_2/DBSCAN.ipynb#W0sZmlsZQ%3D%3D?line=20'>21</a>\u001b[0m     \u001b[39mif\u001b[39;00m euclidean_distance(X[point_idx], x) \u001b[39m<\u001b[39m\u001b[39m=\u001b[39m epsilon:\n\u001b[0;32m     <a href='vscode-notebook-cell:/c%3A/Descargas/Machine%20Learning/Practica_2/DBSCAN.ipynb#W0sZmlsZQ%3D%3D?line=21'>22</a>\u001b[0m         neighbors\u001b[39m.\u001b[39mappend(i)\n\u001b[0;32m     <a href='vscode-notebook-cell:/c%3A/Descargas/Machine%20Learning/Practica_2/DBSCAN.ipynb#W0sZmlsZQ%3D%3D?line=22'>23</a>\u001b[0m \u001b[39mreturn\u001b[39;00m neighbors\n",
      "\u001b[1;32mc:\\Descargas\\Machine Learning\\Practica_2\\DBSCAN.ipynb Celda 1\u001b[0m line \u001b[0;36m1\n\u001b[0;32m     <a href='vscode-notebook-cell:/c%3A/Descargas/Machine%20Learning/Practica_2/DBSCAN.ipynb#W0sZmlsZQ%3D%3D?line=13'>14</a>\u001b[0m \u001b[39mdef\u001b[39;00m \u001b[39meuclidean_distance\u001b[39m(x1, x2):\n\u001b[1;32m---> <a href='vscode-notebook-cell:/c%3A/Descargas/Machine%20Learning/Practica_2/DBSCAN.ipynb#W0sZmlsZQ%3D%3D?line=14'>15</a>\u001b[0m     \u001b[39mreturn\u001b[39;00m np\u001b[39m.\u001b[39msqrt(np\u001b[39m.\u001b[39;49msum((x1 \u001b[39m-\u001b[39;49m x2) \u001b[39m*\u001b[39;49m\u001b[39m*\u001b[39;49m \u001b[39m2\u001b[39;49m))\n",
      "File \u001b[1;32m<__array_function__ internals>:200\u001b[0m, in \u001b[0;36msum\u001b[1;34m(*args, **kwargs)\u001b[0m\n",
      "File \u001b[1;32mc:\\Users\\Khoss\\AppData\\Local\\Programs\\Python\\Python310\\lib\\site-packages\\numpy\\core\\fromnumeric.py:2324\u001b[0m, in \u001b[0;36msum\u001b[1;34m(a, axis, dtype, out, keepdims, initial, where)\u001b[0m\n\u001b[0;32m   2321\u001b[0m         \u001b[39mreturn\u001b[39;00m out\n\u001b[0;32m   2322\u001b[0m     \u001b[39mreturn\u001b[39;00m res\n\u001b[1;32m-> 2324\u001b[0m \u001b[39mreturn\u001b[39;00m _wrapreduction(a, np\u001b[39m.\u001b[39;49madd, \u001b[39m'\u001b[39;49m\u001b[39msum\u001b[39;49m\u001b[39m'\u001b[39;49m, axis, dtype, out, keepdims\u001b[39m=\u001b[39;49mkeepdims,\n\u001b[0;32m   2325\u001b[0m                       initial\u001b[39m=\u001b[39;49minitial, where\u001b[39m=\u001b[39;49mwhere)\n",
      "\u001b[1;31mKeyboardInterrupt\u001b[0m: "
     ]
    }
   ],
   "source": [
    "import pandas as pd\n",
    "import matplotlib.pyplot as plt\n",
    "import numpy as np\n",
    "\n",
    "# Cargar los datos desde el archivo CSV\n",
    "archivo_csv = 'live.csv'\n",
    "data = pd.read_csv(archivo_csv)\n",
    "\n",
    "# Seleccionar las columnas 'num_reactions' y 'num_shares'\n",
    "columnas_seleccionadas = ['num_reactions', 'num_shares']\n",
    "X = data[columnas_seleccionadas].values\n",
    "\n",
    "# Definir la función para calcular la distancia euclidiana entre dos puntos\n",
    "def euclidean_distance(x1, x2):\n",
    "    return np.sqrt(np.sum((x1 - x2) ** 2))\n",
    "\n",
    "# Definir la función para encontrar los vecinos de un punto dentro de un radio epsilon\n",
    "def find_neighbors(X, point_idx, epsilon):\n",
    "    neighbors = []\n",
    "    for i, x in enumerate(X):\n",
    "        if euclidean_distance(X[point_idx], x) <= epsilon:\n",
    "            neighbors.append(i)\n",
    "    return neighbors\n",
    "\n",
    "# Implementar el algoritmo DBSCAN\n",
    "def dbscan(X, epsilon, min_samples):\n",
    "    labels = np.zeros(len(X), dtype=int)  # Etiquetas iniciales, todos puntos como ruido (0)\n",
    "    cluster_id = 1  # Identificador del clúster\n",
    "    for i, x in enumerate(X):\n",
    "        if labels[i] != 0:  # Si ya está etiquetado, continuar\n",
    "            continue\n",
    "        neighbors = find_neighbors(X, i, epsilon)\n",
    "        if len(neighbors) < min_samples:\n",
    "            labels[i] = -1  # Marcar como ruido\n",
    "        else:\n",
    "            labels[i] = cluster_id\n",
    "            expand_cluster(X, labels, i, neighbors, cluster_id, epsilon, min_samples)\n",
    "            cluster_id += 1\n",
    "    return labels\n",
    "\n",
    "# Función para expandir un clúster\n",
    "def expand_cluster(X, labels, point_idx, neighbors, cluster_id, epsilon, min_samples):\n",
    "    for neighbor_idx in neighbors:\n",
    "        if labels[neighbor_idx] == 0:  # Si no está etiquetado\n",
    "            labels[neighbor_idx] = cluster_id\n",
    "            new_neighbors = find_neighbors(X, neighbor_idx, epsilon)\n",
    "            if len(new_neighbors) >= min_samples:\n",
    "                neighbors.extend(new_neighbors)\n",
    "\n",
    "# Parámetros de DBSCAN\n",
    "epsilon = 0.5  # Radio epsilon\n",
    "min_samples = 5  # Mínimo de puntos en un clúster\n",
    "\n",
    "# Ejecutar DBSCAN\n",
    "dbscan_labels = dbscan(X, epsilon, min_samples)\n",
    "\n",
    "# Agregar las etiquetas de DBSCAN al DataFrame original\n",
    "data['DBSCAN_Labels'] = dbscan_labels\n",
    "\n",
    "# Visualizar los resultados\n",
    "plt.scatter(data['num_reactions'], data['num_shares'], c=dbscan_labels, cmap='viridis')\n",
    "plt.xlabel('Número de Reacciones')\n",
    "plt.ylabel('Número de Compartidos')\n",
    "plt.title('DBSCAN Clustering (sin sklearn)')\n",
    "plt.show()\n"
   ]
  }
 ],
 "metadata": {
  "kernelspec": {
   "display_name": "Python 3",
   "language": "python",
   "name": "python3"
  },
  "language_info": {
   "codemirror_mode": {
    "name": "ipython",
    "version": 3
   },
   "file_extension": ".py",
   "mimetype": "text/x-python",
   "name": "python",
   "nbconvert_exporter": "python",
   "pygments_lexer": "ipython3",
   "version": "3.10.10"
  },
  "orig_nbformat": 4
 },
 "nbformat": 4,
 "nbformat_minor": 2
}
