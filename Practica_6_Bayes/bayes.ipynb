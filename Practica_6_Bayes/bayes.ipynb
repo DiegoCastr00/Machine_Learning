{
 "cells": [
  {
   "cell_type": "code",
   "execution_count": 1,
   "metadata": {},
   "outputs": [
    {
     "name": "stdout",
     "output_type": "stream",
     "text": [
      "Priori Values:  {'No Popular': 0.42857142857142855, 'Popular': 0.5714285714285714}\n",
      "\n",
      "Calculated Conditional Probabilities: \n",
      "\n",
      "{'No Popular': {'Accesorios': 0.625}, 'Popular': {'Accesorios': 0.3}}\n",
      "Result: \n",
      "No Popular  ==>  0.6097560975609756\n",
      "Popular  ==>  0.39024390243902435\n"
     ]
    }
   ],
   "source": [
    "from functools import reduce\n",
    "import pandas as pd\n",
    "import pprint\n",
    "\n",
    "class Classifier():\n",
    "    data = None\n",
    "    class_attr = None\n",
    "    priori = {}\n",
    "    cp = {}\n",
    "    hypothesis = None\n",
    "\n",
    "    def __init__(self, filename=None, class_attr=None):\n",
    "        self.data = pd.read_csv(filename, sep=',', header=(0))\n",
    "        self.class_attr = class_attr\n",
    "\n",
    "    def calculate_priori(self):\n",
    "        class_values = list(set(self.data[self.class_attr]))\n",
    "        class_data = list(self.data[self.class_attr])\n",
    "        total_instances = float(len(class_data))\n",
    "\n",
    "        for i in class_values:\n",
    "            self.priori[i] = class_data.count(i) / total_instances\n",
    "        print(\"Priori Values: \", self.priori)\n",
    "\n",
    "    def get_cp(self, attr, attr_type, class_value):\n",
    "        data_attr = list(self.data[attr])\n",
    "        class_data = list(self.data[self.class_attr])\n",
    "        total = 1\n",
    "        for i in range(0, len(data_attr)):\n",
    "            if class_data[i] == class_value and data_attr[i] == attr_type:\n",
    "                total += 1\n",
    "        return total / float(class_data.count(class_value) + len(set(data_attr)))\n",
    "\n",
    "    def calculate_conditional_probabilities(self, hypothesis):\n",
    "        for i in self.priori:\n",
    "            self.cp[i] = {}\n",
    "            for j in hypothesis:\n",
    "                self.cp[i].update({hypothesis[j]: self.get_cp(j, hypothesis[j], i)})\n",
    "        print(\"\\nCalculated Conditional Probabilities: \\n\")\n",
    "        pprint.pprint(self.cp)\n",
    "\n",
    "    def classify(self):\n",
    "        print(\"Result: \")\n",
    "        total_prob = 0  \n",
    "        for i in self.cp:\n",
    "            total_prob += reduce(lambda x, y: x * y, self.cp[i].values()) * self.priori[i]\n",
    "\n",
    "        # Imprimir los resultados normalizados\n",
    "        for i in self.cp:\n",
    "            prob = (reduce(lambda x, y: x * y, self.cp[i].values()) * self.priori[i]) / total_prob\n",
    "            print(i, \" ==> \", prob)\n",
    "\n",
    "\n",
    "if __name__ == \"__main__\":\n",
    "    c = Classifier(filename=\"tienda.csv\", class_attr=\"Popularidad\")\n",
    "    c.calculate_priori()\n",
    "    c.hypothesis = {\"Categoria\":'Accesorios'}\n",
    "\n",
    "    c.calculate_conditional_probabilities(c.hypothesis)\n",
    "    c.classify()"
   ]
  }
 ],
 "metadata": {
  "kernelspec": {
   "display_name": "Python 3",
   "language": "python",
   "name": "python3"
  },
  "language_info": {
   "codemirror_mode": {
    "name": "ipython",
    "version": 3
   },
   "file_extension": ".py",
   "mimetype": "text/x-python",
   "name": "python",
   "nbconvert_exporter": "python",
   "pygments_lexer": "ipython3",
   "version": "3.10.10"
  }
 },
 "nbformat": 4,
 "nbformat_minor": 2
}
